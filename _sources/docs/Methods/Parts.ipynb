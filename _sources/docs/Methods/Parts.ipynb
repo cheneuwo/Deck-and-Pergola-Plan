{
 "cells": [
  {
   "cell_type": "markdown",
   "id": "d311f36e",
   "metadata": {},
   "source": [
    "# Parts List"
   ]
  }
 ],
 "metadata": {
  "language_info": {
   "name": "python"
  }
 },
 "nbformat": 4,
 "nbformat_minor": 5
}
