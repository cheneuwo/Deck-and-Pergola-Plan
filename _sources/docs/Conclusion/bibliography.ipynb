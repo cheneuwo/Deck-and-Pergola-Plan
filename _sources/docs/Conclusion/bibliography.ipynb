{
 "cells": [
  {
   "cell_type": "markdown",
   "id": "9e57e082",
   "metadata": {},
   "source": [
    "# Bibliography\n",
    "\n",
    "```{bibliography}\n",
    "```"
   ]
  }
 ],
 "metadata": {
  "language_info": {
   "name": "python"
  }
 },
 "nbformat": 4,
 "nbformat_minor": 5
}
