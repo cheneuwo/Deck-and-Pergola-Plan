{
 "cells": [
  {
   "cell_type": "markdown",
   "id": "a99323cf",
   "metadata": {},
   "source": [
    "# Background"
   ]
  },
  {
   "cell_type": "markdown",
   "id": "14e48d2c",
   "metadata": {},
   "source": [
    "This is a personal notes for how to build a deck and a pergola. \n",
    "\n",
    "Materials consulted:\n",
    "<iframe width=\"560\" height=\"315\" src=\"https://www.youtube.com/embed/GAhqK_D6Xck?si=g-WI9GI4qx8JRJsg\" title=\"YouTube video player\" frameborder=\"0\" allow=\"accelerometer; autoplay; clipboard-write; encrypted-media; gyroscope; picture-in-picture; web-share\" referrerpolicy=\"strict-origin-when-cross-origin\" allowfullscreen></iframe>"
   ]
  }
 ],
 "metadata": {
  "language_info": {
   "name": "python"
  }
 },
 "nbformat": 4,
 "nbformat_minor": 5
}
