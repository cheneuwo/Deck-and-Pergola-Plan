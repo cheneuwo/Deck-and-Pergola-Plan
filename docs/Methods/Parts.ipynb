{
 "cells": [
  {
   "cell_type": "markdown",
   "id": "d311f36e",
   "metadata": {},
   "source": [
    "# Parts List"
   ]
  },
  {
   "cell_type": "markdown",
   "id": "3470a3d6",
   "metadata": {},
   "source": [
    "## Lumber"
   ]
  },
  {
   "cell_type": "markdown",
   "id": "b3a94c16",
   "metadata": {},
   "source": [
    "# Hardware\n",
    "- Post base for $6 \\times 6$ posts, *decreative*\n",
    "  - Part number: Simpson APB66\n",
    "  - [Manufacturer website](https://www.strongtie.com/missioncollection_outdooraccents/apb_base/p/apb)\n",
    "  - [Store website](https://www.homedepot.ca/product/simpson-strong-tie-outdoor-accents-zmax-galvanized-black-powder-coated-post-base-for-6x6/1001066185)\n",
    "  - Approximate cost: CAD$85\n",
    "  - Quantity: $4$.\n",
    "  - **Use it only when the post base is exposed**\n",
    "- Pose base for $6 \\times 6$ posts,\n",
    "  - Part number: Simpson ABA66Z\n",
    "  - [Manufacturer website](https://www.strongtie.com/retrofitpostbases_postbases/aba_base/p/aba)\n",
    "  - [Store website](https://www.homedepot.ca/product/simpson-strong-tie-aba-zmax-galvanized-adjustable-standoff-post-base-for-6x6/1000152237)\n",
    "  - Approximate cost: $32.10\n",
    "  - Quantity: $4$\n",
    "  - **Use it  when the post base is hidden**\n",
    "- $5/8\" \\times 4\"$ concrete anchors\n",
    "  - Part number: Simpson ABA66Z\n",
    "  - [Manufacturer website](https://www.strongtie.com/mechanicalanchors_mechanicalanchoringproducts/thdss_anchor/p/stainless-steel-titen-hd)\n",
    "  - Quantity: $4$\n",
    "\n"
   ]
  }
 ],
 "metadata": {
  "language_info": {
   "name": "python"
  }
 },
 "nbformat": 4,
 "nbformat_minor": 5
}
