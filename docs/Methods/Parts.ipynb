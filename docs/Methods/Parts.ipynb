{
 "cells": [
  {
   "cell_type": "markdown",
   "id": "d311f36e",
   "metadata": {},
   "source": [
    "# Parts List"
   ]
  },
  {
   "cell_type": "markdown",
   "id": "3470a3d6",
   "metadata": {},
   "source": [
    "## Lumber"
   ]
  },
  {
   "cell_type": "markdown",
   "id": "b3a94c16",
   "metadata": {},
   "source": [
    "# Hardware\n",
    "- Post base for $6 \\times 6$ posts \n",
    "  - Part number: Simpson APB66\n",
    "  - [Manufacturer website](https://www.strongtie.com/missioncollection_outdooraccents/apb_base/p/apb)\n",
    "  - [Store website](https://www.homedepot.ca/product/simpson-strong-tie-outdoor-accents-zmax-galvanized-black-powder-coated-post-base-for-6x6/1001066185)\n",
    "  - Approximate cost: CAD$85\n",
    "  - Quantity: $4$."
   ]
  }
 ],
 "metadata": {
  "language_info": {
   "name": "python"
  }
 },
 "nbformat": 4,
 "nbformat_minor": 5
}
